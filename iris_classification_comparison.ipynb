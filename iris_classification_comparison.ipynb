{
  "nbformat": 4,
  "nbformat_minor": 0,
  "metadata": {
    "colab": {
      "provenance": [],
      "authorship_tag": "ABX9TyNj2Uv29TVX8MxU4mi1M3Oe",
      "include_colab_link": true
    },
    "kernelspec": {
      "name": "python3",
      "display_name": "Python 3"
    },
    "language_info": {
      "name": "python"
    }
  },
  "cells": [
    {
      "cell_type": "markdown",
      "metadata": {
        "id": "view-in-github",
        "colab_type": "text"
      },
      "source": [
        "<a href=\"https://colab.research.google.com/github/senaskaya/iris-ile-yz-modelleme/blob/main/iris_classification_comparison.ipynb\" target=\"_parent\"><img src=\"https://colab.research.google.com/assets/colab-badge.svg\" alt=\"Open In Colab\"/></a>"
      ]
    },
    {
      "cell_type": "code",
      "source": [
        "!unzip iris.zip"
      ],
      "metadata": {
        "colab": {
          "base_uri": "https://localhost:8080/"
        },
        "id": "wrjrsJy4fXqP",
        "outputId": "7f808129-2889-49e3-b862-3ccd5cf9cac0"
      },
      "execution_count": 2,
      "outputs": [
        {
          "output_type": "stream",
          "name": "stdout",
          "text": [
            "Archive:  iris.zip\n",
            "  inflating: Index                   \n",
            "  inflating: bezdekIris.data         \n",
            "  inflating: iris.data               \n",
            "  inflating: iris.names              \n"
          ]
        }
      ]
    },
    {
      "cell_type": "code",
      "execution_count": 7,
      "metadata": {
        "colab": {
          "base_uri": "https://localhost:8080/"
        },
        "id": "OD7UFWvCbC_7",
        "outputId": "40390bd8-5ef9-4d77-ba35-cd7f7f2415b0"
      },
      "outputs": [
        {
          "output_type": "stream",
          "name": "stdout",
          "text": [
            "Eğitim seti boyutu: 120 örnek\n",
            "Test seti boyutu: 30 örnek\n",
            "Eğitim seti boyutu: 120 örnek\n",
            "Test seti boyutu: 30 örnek\n"
          ]
        }
      ],
      "source": [
        "import pandas as pd\n",
        "from sklearn.datasets import load_iris\n",
        "\n",
        "# Iris veri setini yükle\n",
        "iris = load_iris()\n",
        "df = pd.DataFrame(data=iris.data, columns=iris.feature_names)\n",
        "df['species'] = pd.Categorical.from_codes(iris.target, iris.target_names)\n",
        "\n",
        "# Şimdi train/test ayrımını yapalım\n",
        "from sklearn.model_selection import train_test_split\n",
        "\n",
        "# Giriş özellikleri (X) ve hedef değişken (y)\n",
        "X = df.drop(\"species\", axis=1)    # sepal_length, sepal_width, petal_length, petal_width\n",
        "y = df[\"species\"]                 # çiçeğin türü\n",
        "\n",
        "# Veriyi %80 eğitim, %20 test olarak bölelim\n",
        "X_train, X_test, y_train, y_test = train_test_split(\n",
        "    X, y, test_size=0.2, random_state=42\n",
        ")\n",
        "\n",
        "# Ayrımın sonuçlarını görelim\n",
        "print(f\"Eğitim seti boyutu: {X_train.shape[0]} örnek\")\n",
        "print(f\"Test seti boyutu: {X_test.shape[0]} örnek\")"
      ]
    },
    {
      "cell_type": "code",
      "source": [
        "# Lojistik Regresyon modelini içe aktarma\n",
        "from sklearn.linear_model import LogisticRegression\n",
        "\n",
        "# Modeli oluşturma\n",
        "model = LogisticRegression(max_iter=200)\n",
        "\n",
        "# Modeli eğitim verileriyle eğitme\n",
        "model.fit(X_train, y_train)\n",
        "\n",
        "# Test verilerine dayalı tahminler yapma\n",
        "y_pred = model.predict(X_test)\n",
        "\n",
        "# Model başarısını ölçme\n",
        "from sklearn.metrics import accuracy_score\n",
        "\n",
        "acc = accuracy_score(y_test, y_pred)\n",
        "\n",
        "print(\"Accuracy:\", acc)"
      ],
      "metadata": {
        "colab": {
          "base_uri": "https://localhost:8080/"
        },
        "id": "2Vw-qX0ogEZF",
        "outputId": "87f1fcd6-75ea-4cc0-de80-b580c014802f"
      },
      "execution_count": 8,
      "outputs": [
        {
          "output_type": "stream",
          "name": "stdout",
          "text": [
            "Accuracy: 1.0\n"
          ]
        }
      ]
    },
    {
      "cell_type": "markdown",
      "source": [
        "### Karar Ağacı (Decision Tree)"
      ],
      "metadata": {
        "id": "dcIaDXkujUT9"
      }
    },
    {
      "cell_type": "code",
      "source": [
        "from sklearn.tree import DecisionTreeClassifier\n",
        "\n",
        "model = DecisionTreeClassifier(random_state=42)\n",
        "\n",
        "model.fit(X_train, y_train)"
      ],
      "metadata": {
        "id": "Pni3SzINhbzH"
      },
      "execution_count": null,
      "outputs": []
    },
    {
      "cell_type": "markdown",
      "source": [
        "### Rastgele Orman (Random Forest)"
      ],
      "metadata": {
        "id": "qf1j4vbKjYtk"
      }
    },
    {
      "cell_type": "code",
      "source": [
        "from sklearn.ensemble import RandomForestClassifier\n",
        "\n",
        "model = RandomForestClassifier(n_estimators=100, random_state=42) #n_estimators=100 ifadesi 100 farklı karar ağacı oluşturulacağını gösterir.\n",
        "\n",
        "model.fit(X_train, y_train)"
      ],
      "metadata": {
        "id": "ktHD3n0OjbNI"
      },
      "execution_count": null,
      "outputs": []
    },
    {
      "cell_type": "markdown",
      "source": [
        "### Destek Vektör Makinesi (SVM)"
      ],
      "metadata": {
        "id": "qVF5tUkijmIT"
      }
    },
    {
      "cell_type": "code",
      "source": [
        "from sklearn.svm import SVC\n",
        "\n",
        "model = SVC(kernel='rbf', random_state=42) #kernel='rbf ifadesi verileri lineer olmayacak şekilde ayrılmasını ifsde eder.\n",
        "\n",
        "model.fit(X_train, y_train)"
      ],
      "metadata": {
        "id": "gYgoPb5Ijoou"
      },
      "execution_count": null,
      "outputs": []
    },
    {
      "cell_type": "markdown",
      "source": [
        "# MODELLERİN KARŞILAŞTIRILMASI"
      ],
      "metadata": {
        "id": "tDqu6lv4lD7a"
      }
    },
    {
      "cell_type": "code",
      "source": [
        "from sklearn.linear_model import LogisticRegression\n",
        "from sklearn.tree import DecisionTreeClassifier\n",
        "from sklearn.ensemble import RandomForestClassifier\n",
        "from sklearn.svm import SVC\n",
        "from sklearn.metrics import accuracy_score\n",
        "\n",
        "# Test edilecek modeller\n",
        "models = {\n",
        "    'Lojistik Regresyon': LogisticRegression(max_iter=200),\n",
        "    'Karar Ağacı': DecisionTreeClassifier(random_state=42),\n",
        "    'Rastgele Orman': RandomForestClassifier(n_estimators=100, random_state=42),\n",
        "    'SVM': SVC(random_state=42),\n",
        "}\n",
        "\n",
        "# Sonuçları saklayacağımız sözlük\n",
        "results = {}\n",
        "\n",
        "# Her modeli eğit ve test et\n",
        "for name, model in models.items():\n",
        "    model.fit(X_train, y_train)\n",
        "    y_pred = model.predict(X_test)\n",
        "    accuracy = accuracy_score(y_test, y_pred)\n",
        "    results[name] = accuracy\n",
        "    print(f\"{name} Accuracy: {accuracy:.4f}\")\n",
        "\n",
        "# Sonuçları tablo olarak görüntüle\n",
        "import pandas as pd\n",
        "results_df = pd.DataFrame({'Model': list(results.keys()), 'Accuracy': list(results.values())})\n",
        "results_df = results_df.sort_values('Accuracy', ascending=False).reset_index(drop=True)\n",
        "print(\"\\nModel Karşılaştırma:\")\n",
        "print(results_df)"
      ],
      "metadata": {
        "colab": {
          "base_uri": "https://localhost:8080/"
        },
        "id": "Cr65jfSfk_fi",
        "outputId": "709ba1ba-d33c-4b96-a5d0-e5bbe1498f9f"
      },
      "execution_count": 9,
      "outputs": [
        {
          "output_type": "stream",
          "name": "stdout",
          "text": [
            "Lojistik Regresyon Accuracy: 1.0000\n",
            "Karar Ağacı Accuracy: 1.0000\n",
            "Rastgele Orman Accuracy: 1.0000\n",
            "SVM Accuracy: 1.0000\n",
            "\n",
            "Model Karşılaştırma:\n",
            "                Model  Accuracy\n",
            "0  Lojistik Regresyon       1.0\n",
            "1         Karar Ağacı       1.0\n",
            "2      Rastgele Orman       1.0\n",
            "3                 SVM       1.0\n"
          ]
        }
      ]
    }
  ]
}